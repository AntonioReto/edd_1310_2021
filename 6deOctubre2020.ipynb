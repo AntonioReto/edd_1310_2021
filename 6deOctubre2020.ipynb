{
  "nbformat": 4,
  "nbformat_minor": 0,
  "metadata": {
    "colab": {
      "name": "6deOctubre2020.ipynb",
      "provenance": [],
      "authorship_tag": "ABX9TyMsU4EL5Vz8W7Gxl8qIxvYH",
      "include_colab_link": true
    },
    "kernelspec": {
      "name": "python3",
      "display_name": "Python 3"
    }
  },
  "cells": [
    {
      "cell_type": "markdown",
      "metadata": {
        "id": "view-in-github",
        "colab_type": "text"
      },
      "source": [
        "<a href=\"https://colab.research.google.com/github/AntonioReto/edd_1310_2021/blob/master/6deOctubre2020.ipynb\" target=\"_parent\"><img src=\"https://colab.research.google.com/assets/colab-badge.svg\" alt=\"Open In Colab\"/></a>"
      ]
    },
    {
      "cell_type": "code",
      "metadata": {
        "id": "_d2bB878sb5h",
        "outputId": "cfc41e23-0a4b-4c38-d517-6625e35889a2",
        "colab": {
          "base_uri": "https://localhost:8080/",
          "height": 340
        }
      },
      "source": [
        "#string continuacion \n",
        "numeros_txt = \"     1,2,3,4  ,5, 35,  15, 12\"\n",
        "print(numeros_txt)\n",
        "numeros_txt = numeros_txt.lstrip().split(',')\n",
        "print(numeros_txt)\n",
        "\n",
        "for j in range(len(numeros_txt)):\n",
        "  numeros_txt[j]= int (numeros_txt[j].strip())\n",
        "print(numeros_txt)\n",
        "\n",
        "#funcion range()\n",
        "\n",
        "#range(inicio, stop, incremento)\n",
        "print (range(1,10,3))\n",
        "rango = range(1,10,2)\n",
        "for x in rango:\n",
        "  print(x)\n",
        "\n",
        "rango = range(10)\n",
        "for x in rango:\n",
        "  print(x)\n",
        "  "
      ],
      "execution_count": 10,
      "outputs": [
        {
          "output_type": "stream",
          "text": [
            "     1,2,3,4  ,5, 35,  15, 12\n",
            "['1', '2', '3', '4  ', '5', ' 35', '  15', ' 12']\n",
            "[1, 2, 3, 4, 5, 35, 15, 12]\n",
            "range(1, 10, 3)\n",
            "1\n",
            "3\n",
            "5\n",
            "7\n",
            "9\n",
            "0\n",
            "1\n",
            "2\n",
            "3\n",
            "4\n",
            "5\n",
            "6\n",
            "7\n",
            "8\n",
            "9\n"
          ],
          "name": "stdout"
        }
      ]
    },
    {
      "cell_type": "code",
      "metadata": {
        "id": "rOI1sdYSxnOU"
      },
      "source": [
        ""
      ],
      "execution_count": null,
      "outputs": []
    },
    {
      "cell_type": "markdown",
      "metadata": {
        "id": "6yI6aScnxPMQ"
      },
      "source": [
        "#Listas\n",
        "- mutables.\n",
        "- declaran con [ ].\n",
        "- selector[ int ].\n",
        "- pueden ser de cualquier tipo y mezclado\n",
        "\n",
        "#Tuplas\n",
        "- No mutables.\n",
        "- Declaran con ()\n",
        "- selectos [int]\n",
        "\n",
        "#diccionarios\n",
        "- son mutables\n",
        "- son conjuntode pares llave:valor\n",
        "- Equivalentes a los objetos en JSON de JavaScript\n",
        "\n",
        "#conjuntos\n",
        "- Representacion de la teoría de conjuntos\n"
      ]
    },
    {
      "cell_type": "code",
      "metadata": {
        "id": "JeTmLcq9yO5e",
        "outputId": "74b82965-3f5f-421a-bbf8-3ecb5d0db886",
        "colab": {
          "base_uri": "https://localhost:8080/",
          "height": 119
        }
      },
      "source": [
        "#Listas\n",
        "frutas = [\"Pera\", \"Manzana\", \"fresa\", \"Quiwi\", \"Naranja\"]\n",
        "print(frutas)\n",
        "cosas= [\"cuaderno\",2,3.1416, True,False, ['rojo', 'azul']]\n",
        "frutas[2]= \"Fresa\"\n",
        "print (frutas)\n",
        "#agregar a lista \n",
        "#append se usa para agregar al final\n",
        "frutas.append(\"aguacate\")\n",
        "print(frutas)\n",
        "#insert((numero de la posición que queremos), \"Nombre de lo que queremos agregar o variable\")\n",
        "frutas.insert(2,\"Sandía\")\n",
        "print(frutas)\n",
        "#Poner en formato fecha concatenando listas\n",
        "fecha = [\"06\",\"10\",\"2020\"]\n",
        "print(fecha)\n",
        "fecha_str= \"/\".join(fecha)\n",
        "print(fecha_str)\n",
        "\n"
      ],
      "execution_count": 26,
      "outputs": [
        {
          "output_type": "stream",
          "text": [
            "['Pera', 'Manzana', 'fresa', 'Quiwi', 'Naranja']\n",
            "['Pera', 'Manzana', 'Fresa', 'Quiwi', 'Naranja']\n",
            "['Pera', 'Manzana', 'Fresa', 'Quiwi', 'Naranja', 'aguacate']\n",
            "['Pera', 'Manzana', 'Sandía', 'Fresa', 'Quiwi', 'Naranja', 'aguacate']\n",
            "['06', '10', '2020']\n",
            "06/10/2020\n"
          ],
          "name": "stdout"
        }
      ]
    },
    {
      "cell_type": "code",
      "metadata": {
        "id": "LHTpG1OB3hUi",
        "outputId": "84c861f3-87f8-457a-a63d-47c62812fbf8",
        "colab": {
          "base_uri": "https://localhost:8080/",
          "height": 204
        }
      },
      "source": [
        "#eliminar elementos\n",
        "cosas= [\"cuaderno\",2,3.1416, True,False, ['rojo', 'azul']]\n",
        "print(cosas)\n",
        "cosas.append(\"Libro\")\n",
        "cosas.append(\"Lapiz\")\n",
        "print(cosas)\n",
        "algo = cosas.pop()\n",
        "print(cosas)\n",
        "print(algo)\n",
        "#pop elimina y almacena la variable\n",
        "algo = cosas.pop(2)\n",
        "print(cosas)\n",
        "print (algo)\n",
        "#remove\n",
        "cosas.remove(2)\n",
        "print(cosas)\n",
        "#vaciar lista\n",
        "cosas.clear()\n",
        "print (cosas)\n",
        "\n",
        "#ordenar \n",
        "print(frutas)\n",
        "frutas.sort()\n",
        "print(frutas)\n",
        "\n"
      ],
      "execution_count": 34,
      "outputs": [
        {
          "output_type": "stream",
          "text": [
            "['cuaderno', 2, 3.1416, True, False, ['rojo', 'azul']]\n",
            "['cuaderno', 2, 3.1416, True, False, ['rojo', 'azul'], 'Libro', 'Lapiz']\n",
            "['cuaderno', 2, 3.1416, True, False, ['rojo', 'azul'], 'Libro']\n",
            "Lapiz\n",
            "['cuaderno', 2, True, False, ['rojo', 'azul'], 'Libro']\n",
            "3.1416\n",
            "['cuaderno', True, False, ['rojo', 'azul'], 'Libro']\n",
            "[]\n",
            "['Fresa', 'Manzana', 'Naranja', 'Pera', 'Quiwi', 'Sandía', 'aguacate']\n",
            "['Fresa', 'Manzana', 'Naranja', 'Pera', 'Quiwi', 'Sandía', 'aguacate']\n",
            "[]\n"
          ],
          "name": "stdout"
        }
      ]
    },
    {
      "cell_type": "code",
      "metadata": {
        "id": "MI0jnxmq7GIf",
        "outputId": "d4be2577-81f2-42e3-cee1-ef71708730e8",
        "colab": {
          "base_uri": "https://localhost:8080/",
          "height": 119
        }
      },
      "source": [
        "#slicing\n",
        "\n",
        "cosas= [\"cuaderno\",2,3.1416, True,False, ['rojo', 'azul']]\n",
        "print(cosas[3:5:1])\n",
        "print(cosas)\n",
        "print(cosas[0][3:5:1])\n",
        "numeros=[0,1,2,3,4,5,6,7,8,9,10,11,12,13,14,15]\n",
        "#cuando el incremento es el 1 puedes omitirlo y lo marcará por defecto\n",
        "print(numeros[8:13])\n",
        "\n",
        "#sustituir rebanadas\n",
        "numeros[8:13:]=[-2,-2]\n",
        "print (numeros)\n",
        "\n",
        "#preguntar por una existencia de algún numero\n",
        "print(-2 in numeros)\n"
      ],
      "execution_count": 40,
      "outputs": [
        {
          "output_type": "stream",
          "text": [
            "[True, False]\n",
            "['cuaderno', 2, 3.1416, True, False, ['rojo', 'azul']]\n",
            "de\n",
            "[8, 9, 10, 11, 12]\n",
            "[0, 1, 2, 3, 4, 5, 6, 7, -2, -2, 13, 14, 15]\n",
            "True\n"
          ],
          "name": "stdout"
        }
      ]
    },
    {
      "cell_type": "markdown",
      "metadata": {
        "id": "7thhVIgq-i1_"
      },
      "source": [
        "#Listas multidimensión (listas dentro de listas)\n"
      ]
    },
    {
      "cell_type": "code",
      "metadata": {
        "id": "gI8rE_jw-px6",
        "outputId": "85145050-d342-496f-dd28-4c32747b3fbf",
        "colab": {
          "base_uri": "https://localhost:8080/",
          "height": 207
        }
      },
      "source": [
        "computadoras=[\"HP\",\"Mac Book Pro 17\",\"Mate Book\",\"Lenovo Legion\"]\n",
        "oss= [\"Windows 10\", \"Linux\", \"Android\",\"IOS\"]\n",
        "\n",
        "computo=[computadoras, oss]\n",
        "print(computo[0])\n",
        "print(computo[1])\n",
        "print(computo[0][2])\n",
        "print(computo[0][2][0:5])\n",
        "print(computo[0][3][5: :-1])\n",
        "print(computo[0][3][-8: : 1])\n",
        "print(\"Linux\" in oss)\n",
        "dbms=[[\"MySQL\",\"Open Source\", False] , [\"MS SQL Server\",\"de Paga \",True] ]\n",
        "computo.append(dbms)\n",
        "print(computo)\n",
        "print(computo[2][0][0])\n",
        "print(computo[2][1][1])\n"
      ],
      "execution_count": 64,
      "outputs": [
        {
          "output_type": "stream",
          "text": [
            "['HP', 'Mac Book Pro 17', 'Mate Book', 'Lenovo Legion']\n",
            "['Windows 10', 'Linux', 'Android', 'IOS']\n",
            "Mate Book\n",
            "Mate \n",
            "ovoneL\n",
            "o Legion\n",
            "True\n",
            "[['HP', 'Mac Book Pro 17', 'Mate Book', 'Lenovo Legion'], ['Windows 10', 'Linux', 'Android', 'IOS'], [['MySQL', 'Open Source', False], ['MS SQL Server', 'de Paga ', True]]]\n",
            "MySQL\n",
            "de Paga \n"
          ],
          "name": "stdout"
        }
      ]
    }
  ]
}