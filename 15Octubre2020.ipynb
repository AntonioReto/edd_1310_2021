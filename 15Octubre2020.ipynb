{
  "nbformat": 4,
  "nbformat_minor": 0,
  "metadata": {
    "colab": {
      "name": "15Octubre2020.ipynb",
      "provenance": [],
      "authorship_tag": "ABX9TyNg96BajA6EVKlGLIpR08Du",
      "include_colab_link": true
    },
    "kernelspec": {
      "name": "python3",
      "display_name": "Python 3"
    }
  },
  "cells": [
    {
      "cell_type": "markdown",
      "metadata": {
        "id": "view-in-github",
        "colab_type": "text"
      },
      "source": [
        "<a href=\"https://colab.research.google.com/github/AntonioReto/edd_1310_2021/blob/master/15Octubre2020.ipynb\" target=\"_parent\"><img src=\"https://colab.research.google.com/assets/colab-badge.svg\" alt=\"Open In Colab\"/></a>"
      ]
    },
    {
      "cell_type": "markdown",
      "metadata": {
        "id": "Mqqq4LCzEQKj"
      },
      "source": [
        "#Modulo\n",
        "Un módulo le permite a usted organizar lógicamente su código Python. Agrupando código relacionado dentro de un módulo hace el código mas fácil de entender y usar. Un módulo es un objeto de Python con atributos con nombres arbitrarios que puede enlazar y hacer referencia.\n",
        "\n",
        "Simplemente, un módulo es no es otra cosa sino un archivo con extensión .py. Un módulo puede definir funciones, clases y variables, también puede incluir código ejecutable.\n",
        "\n",
        "El código Python para un módulo nombrado funciones normalmente reside un archivo llamado utilidades.py.\n",
        "La sentencia import se utiliza para importar un módulo."
      ]
    },
    {
      "cell_type": "code",
      "metadata": {
        "id": "BRL55zRHEWfM",
        "outputId": "e4d87271-d7f6-4dae-a282-1bad8e493c10",
        "colab": {
          "base_uri": "https://localhost:8080/",
          "height": 35
        }
      },
      "source": [
        "import mi_modulo\n",
        "\n",
        "x = mi_modulo.sumar( 4 , 7 )\n",
        "\"\"\"\n",
        "print(x)\n",
        "\n",
        "print( mi_modulo.multiplicar(3,5))\n",
        "\"\"\""
      ],
      "execution_count": 1,
      "outputs": [
        {
          "output_type": "stream",
          "text": [
            "11\n"
          ],
          "name": "stdout"
        }
      ]
    },
    {
      "cell_type": "code",
      "metadata": {
        "id": "FLl_2kfBFfSU",
        "outputId": "cc22b502-6df9-4cc7-b138-5c159dc80b95",
        "colab": {
          "base_uri": "https://localhost:8080/",
          "height": 54
        }
      },
      "source": [
        "from mi_modulo import sumar,dividir\n",
        "print(sumar( 4 , 7 ))\n",
        "print(dividir(6,7))"
      ],
      "execution_count": 7,
      "outputs": [
        {
          "output_type": "stream",
          "text": [
            "11\n",
            "0.8571428571428571\n"
          ],
          "name": "stdout"
        }
      ]
    },
    {
      "cell_type": "code",
      "metadata": {
        "id": "gaK3FFPULPmx",
        "outputId": "f0e809ee-0491-44ec-9244-6ab8fc9ab7c9",
        "colab": {
          "base_uri": "https://localhost:8080/",
          "height": 35
        }
      },
      "source": [
        "import mi_modulo as patito\n",
        "\n",
        "print(patito.sumar(4,6))"
      ],
      "execution_count": 6,
      "outputs": [
        {
          "output_type": "stream",
          "text": [
            "10\n"
          ],
          "name": "stdout"
        }
      ]
    },
    {
      "cell_type": "code",
      "metadata": {
        "id": "RUm_uS1ROEwS",
        "outputId": "6f5c3734-faa3-4176-efd8-b454240b2cfd",
        "colab": {
          "base_uri": "https://localhost:8080/",
          "height": 292
        }
      },
      "source": [
        "pip install joke-generator\n"
      ],
      "execution_count": 9,
      "outputs": [
        {
          "output_type": "stream",
          "text": [
            "Collecting joke-generator\n",
            "  Downloading https://files.pythonhosted.org/packages/95/e5/de76c4aff315ad38ab69cd25ea942250a51008e910905c1f8ef80265b15b/joke_generator-1.0.1.tar.gz\n",
            "Requirement already satisfied: requests>=2.22.0 in /usr/local/lib/python3.6/dist-packages (from joke-generator) (2.23.0)\n",
            "Requirement already satisfied: idna<3,>=2.5 in /usr/local/lib/python3.6/dist-packages (from requests>=2.22.0->joke-generator) (2.10)\n",
            "Requirement already satisfied: certifi>=2017.4.17 in /usr/local/lib/python3.6/dist-packages (from requests>=2.22.0->joke-generator) (2020.6.20)\n",
            "Requirement already satisfied: chardet<4,>=3.0.2 in /usr/local/lib/python3.6/dist-packages (from requests>=2.22.0->joke-generator) (3.0.4)\n",
            "Requirement already satisfied: urllib3!=1.25.0,!=1.25.1,<1.26,>=1.21.1 in /usr/local/lib/python3.6/dist-packages (from requests>=2.22.0->joke-generator) (1.24.3)\n",
            "Building wheels for collected packages: joke-generator\n",
            "  Building wheel for joke-generator (setup.py) ... \u001b[?25l\u001b[?25hdone\n",
            "  Created wheel for joke-generator: filename=joke_generator-1.0.1-cp36-none-any.whl size=2075 sha256=a5717e7090722f3cb69319ed8501c9a6c16e7558aa099af33b5eea0a0fb114e4\n",
            "  Stored in directory: /root/.cache/pip/wheels/b1/e1/1c/42a5a669d05834c31aab52f6f87b1c7d50718f7669d51bd347\n",
            "Successfully built joke-generator\n",
            "Installing collected packages: joke-generator\n",
            "Successfully installed joke-generator-1.0.1\n"
          ],
          "name": "stdout"
        }
      ]
    },
    {
      "cell_type": "code",
      "metadata": {
        "id": "1EPjLvaaPqDY",
        "outputId": "df0c410a-c90b-481f-9d38-df66e507749d",
        "colab": {
          "base_uri": "https://localhost:8080/",
          "height": 35
        }
      },
      "source": [
        "from joke_generator import generate\n",
        "generate()"
      ],
      "execution_count": 13,
      "outputs": [
        {
          "output_type": "execute_result",
          "data": {
            "application/vnd.google.colaboratory.intrinsic+json": {
              "type": "string"
            },
            "text/plain": [
              "'What did one plate say to the other plate? Dinner is on me!'"
            ]
          },
          "metadata": {
            "tags": []
          },
          "execution_count": 13
        }
      ]
    },
    {
      "cell_type": "markdown",
      "metadata": {
        "id": "LH6lV7sySRRj"
      },
      "source": [
        "#Archivos\n",
        "- open (str , str)\n",
        " 1. Nombre o ruta del archivo\n",
        " 2. Dos caracteres\n",
        "   - Modo de apertura del archivo ( r , w , a append solo si el archivo no existe , x append solo si el archivo no existe)\n",
        "   - Formato del archivo (texto o binario)\n",
        "  "
      ]
    },
    {
      "cell_type": "code",
      "metadata": {
        "id": "hWfZkWccS4xA"
      },
      "source": [
        "archivo = open(\"saludo.txt\", \"wt\" )\n",
        "archivo.write(\"Hola mundo \\n ola que hace\")\n",
        "archivo.close()"
      ],
      "execution_count": 15,
      "outputs": []
    },
    {
      "cell_type": "code",
      "metadata": {
        "id": "9_iQ33USUdan",
        "outputId": "a164ecd0-20c6-4252-93dc-7012efcbfff5",
        "colab": {
          "base_uri": "https://localhost:8080/",
          "height": 163
        }
      },
      "source": [
        "otro=open('./sample_data/anscombe.json','rt')\n",
        "datos = otro.read()\n",
        "#print(datos)\n",
        "otro.close()\n",
        "\n",
        "arch = open('frutas.txt','rt')\n",
        "#print(arch.readline())\n",
        "#print(arch.readline())\n",
        "#print(arch.readline())\n",
        "#print(arch.readline())\n",
        "data='ppp'\n",
        "while(data != ''):\n",
        "  data=arch.readline()\n",
        "  print(data)\n",
        "\n",
        "arch.close()\n",
        "arch = open('frutas.txt','rt')\n",
        "list_frutas = arch.readlines()\n",
        "print(list_frutas)\n",
        "arch.close()"
      ],
      "execution_count": 28,
      "outputs": [
        {
          "output_type": "stream",
          "text": [
            "manzana,pera,  kiwi , aguacate\n",
            "\n",
            "limon , naranja \n",
            "\n",
            "sandía , papaya\n",
            "\n",
            "\n",
            "['manzana,pera,  kiwi , aguacate\\n', 'limon , naranja \\n', 'sandía , papaya\\n']\n"
          ],
          "name": "stdout"
        }
      ]
    }
  ]
}