{
  "nbformat": 4,
  "nbformat_minor": 0,
  "metadata": {
    "colab": {
      "name": "13Octubre2020.ipynb",
      "provenance": [],
      "authorship_tag": "ABX9TyOAVR+8cULWJJz4iPVMHjhX",
      "include_colab_link": true
    },
    "kernelspec": {
      "name": "python3",
      "display_name": "Python 3"
    }
  },
  "cells": [
    {
      "cell_type": "markdown",
      "metadata": {
        "id": "view-in-github",
        "colab_type": "text"
      },
      "source": [
        "<a href=\"https://colab.research.google.com/github/AntonioReto/edd_1310_2021/blob/master/13Octubre2020.ipynb\" target=\"_parent\"><img src=\"https://colab.research.google.com/assets/colab-badge.svg\" alt=\"Open In Colab\"/></a>"
      ]
    },
    {
      "cell_type": "code",
      "metadata": {
        "id": "N2KsYj9Evtnr",
        "outputId": "9711f8b7-7ac2-427e-a958-931439a29e4f",
        "colab": {
          "base_uri": "https://localhost:8080/",
          "height": 105
        }
      },
      "source": [
        "alumno = { \n",
        "          \"num_cta\" : 303030303 ,\n",
        "          \"carrera\" : \"ICO\",\n",
        "          \"promedio\" : 9.8,\n",
        "          \"materias\" :[\"EDD\",\"CyP\",\"Calidad\",\"Emprendimiento\"],\n",
        "          \"direccion\" : { \n",
        "                            \"calle\":\"rancho seco\",\n",
        "                            \"numero\" : 23 ,\n",
        "                            \"delegacion\" : \"Neza\",\n",
        "                            \"estado\" : {\n",
        "                                        \"id\" : 15 ,\n",
        "                                        \"nombre\" : \"Estado de Máxico\" ,\n",
        "                                        \"nombre_corto\" : \"EdoMex\"\n",
        "                                        } ,\n",
        "                            \"CP\":57170\n",
        "\n",
        "                        } \n",
        "          }\n",
        "print(alumno)\n",
        "alumno['carrera'] = \"Ingenieria en Computación\"\n",
        "print(alumno)\n",
        "alumno ['nombre_completo'] = {'primer' : \"Juan\",\n",
        "                              'segundo': \"Pedro\",\n",
        "                              'materno': \"Pérez\",\n",
        "                              'paterno': \"Gomez\"}\n",
        "alumno['semestre']=3\n",
        "print(alumno)\n",
        "print(f\"{alumno['nombre_completo']['primer']} {alumno['nombre_completo']['segundo']}\")"
      ],
      "execution_count": 3,
      "outputs": [
        {
          "output_type": "stream",
          "text": [
            "{'num_cta': 303030303, 'carrera': 'ICO', 'promedio': 9.8, 'materias': ['EDD', 'CyP', 'Calidad', 'Emprendimiento'], 'direccion': {'calle': 'rancho seco', 'numero': 23, 'delegacion': 'Neza', 'estado': {'id': 15, 'nombre': 'Estado de Máxico', 'nombre_corto': 'EdoMex'}, 'CP': 57170}}\n",
            "{'num_cta': 303030303, 'carrera': 'Ingenieria en Computación', 'promedio': 9.8, 'materias': ['EDD', 'CyP', 'Calidad', 'Emprendimiento'], 'direccion': {'calle': 'rancho seco', 'numero': 23, 'delegacion': 'Neza', 'estado': {'id': 15, 'nombre': 'Estado de Máxico', 'nombre_corto': 'EdoMex'}, 'CP': 57170}}\n",
            "{'num_cta': 303030303, 'carrera': 'Ingenieria en Computación', 'promedio': 9.8, 'materias': ['EDD', 'CyP', 'Calidad', 'Emprendimiento'], 'direccion': {'calle': 'rancho seco', 'numero': 23, 'delegacion': 'Neza', 'estado': {'id': 15, 'nombre': 'Estado de Máxico', 'nombre_corto': 'EdoMex'}, 'CP': 57170}, 'nombre_completo': {'primer': 'Juan', 'segundo': 'Pedro', 'materno': 'Pérez', 'paterno': 'Gomez'}, 'semestre': 3}\n",
            "Juan Pedro\n"
          ],
          "name": "stdout"
        }
      ]
    },
    {
      "cell_type": "code",
      "metadata": {
        "id": "r-qmI2g5x9_8",
        "outputId": "134b3fb4-869a-4d46-b0fe-3b00aed04f70",
        "colab": {
          "base_uri": "https://localhost:8080/",
          "height": 428
        }
      },
      "source": [
        "#key(), values() y items()\n",
        "\n",
        "llaves=alumno.keys()\n",
        "print(llaves)\n",
        "for llave in llaves:\n",
        "  print(llave.upper())\n",
        "\n",
        "valores= alumno.values()\n",
        "for val in valores:\n",
        "  print(val)\n",
        "pares =alumno.items()\n",
        "print(pares)\n",
        "for elem in pares:\n",
        "  print(f\"el campo {elem[0]} tiene el valor{elem[1]} \")"
      ],
      "execution_count": 12,
      "outputs": [
        {
          "output_type": "stream",
          "text": [
            "dict_keys(['num_cta', 'carrera', 'promedio', 'materias', 'direccion', 'nombre_completo', 'semestre'])\n",
            "NUM_CTA\n",
            "CARRERA\n",
            "PROMEDIO\n",
            "MATERIAS\n",
            "DIRECCION\n",
            "NOMBRE_COMPLETO\n",
            "SEMESTRE\n",
            "303030303\n",
            "Ingenieria en Computación\n",
            "9.8\n",
            "['EDD', 'CyP', 'Calidad', 'Emprendimiento']\n",
            "{'calle': 'rancho seco', 'numero': 23, 'delegacion': 'Neza', 'estado': {'id': 15, 'nombre': 'Estado de Máxico', 'nombre_corto': 'EdoMex'}, 'CP': 57170}\n",
            "{'primer': 'Juan', 'segundo': 'Pedro', 'materno': 'Pérez', 'paterno': 'Gomez'}\n",
            "3\n",
            "dict_items([('num_cta', 303030303), ('carrera', 'Ingenieria en Computación'), ('promedio', 9.8), ('materias', ['EDD', 'CyP', 'Calidad', 'Emprendimiento']), ('direccion', {'calle': 'rancho seco', 'numero': 23, 'delegacion': 'Neza', 'estado': {'id': 15, 'nombre': 'Estado de Máxico', 'nombre_corto': 'EdoMex'}, 'CP': 57170}), ('nombre_completo', {'primer': 'Juan', 'segundo': 'Pedro', 'materno': 'Pérez', 'paterno': 'Gomez'}), ('semestre', 3)])\n",
            "el campo num_cta tiene el valor303030303 \n",
            "el campo carrera tiene el valorIngenieria en Computación \n",
            "el campo promedio tiene el valor9.8 \n",
            "el campo materias tiene el valor['EDD', 'CyP', 'Calidad', 'Emprendimiento'] \n",
            "el campo direccion tiene el valor{'calle': 'rancho seco', 'numero': 23, 'delegacion': 'Neza', 'estado': {'id': 15, 'nombre': 'Estado de Máxico', 'nombre_corto': 'EdoMex'}, 'CP': 57170} \n",
            "el campo nombre_completo tiene el valor{'primer': 'Juan', 'segundo': 'Pedro', 'materno': 'Pérez', 'paterno': 'Gomez'} \n",
            "el campo semestre tiene el valor3 \n"
          ],
          "name": "stdout"
        }
      ]
    },
    {
      "cell_type": "code",
      "metadata": {
        "id": "EHDyGdyh1Euj",
        "outputId": "f4bd48ee-969a-4ce7-8423-4009496b7a39",
        "colab": {
          "base_uri": "https://localhost:8080/",
          "height": 34
        }
      },
      "source": [
        "#concatenar diccionarios\n",
        "computadora ={\"procesador\":\"intel i7\",\"ram\":\"Kingston 128 GB\"}\n",
        "otros={\"monitor\":\"LG 49\\\"\" ,\"hd\":\"Toshiba 1TB\"}\n",
        "computadora.update(otros)\n",
        "print(computadora)"
      ],
      "execution_count": 15,
      "outputs": [
        {
          "output_type": "stream",
          "text": [
            "{'procesador': 'intel i7', 'ram': 'Kingston 128 GB', 'monitor': 'LG 49\"', 'hd': 'Toshiba 1TB'}\n"
          ],
          "name": "stdout"
        }
      ]
    },
    {
      "cell_type": "markdown",
      "metadata": {
        "id": "boTm7G6u2pux"
      },
      "source": [
        "#Funciones\n",
        "- Son unidades de código reutilizable\n",
        "- Es un mecanismo deorganización  de código\n",
        "- Una función toma de 0 a n parametros de entrada\n",
        "- Tiene una sola salida(return) de cualquier tipo de dato\n",
        "- Solo puedes hacer dos cosas:\n",
        "          - definirla\n",
        "          - llamarla\n",
        "- Se definen con la palbra reservada 'def'"
      ]
    },
    {
      "cell_type": "code",
      "metadata": {
        "id": "RbgLbNwH3xn7",
        "outputId": "bee5b04a-fdcf-48eb-8f18-afaa4055bb89",
        "colab": {
          "base_uri": "https://localhost:8080/",
          "height": 199
        }
      },
      "source": [
        "def sumar(x,y):\n",
        "  resultado= x+y\n",
        "  return resultado\n",
        "def saludar(nombre):\n",
        "  print(f\"Hola {nombre}, ¿Cómo estás?\")\n",
        "  #Si no regresa nada se puede no escribir el retur None\n",
        "  return None\n",
        "def multiplicar(valor, veces):\n",
        "  if valor != None:\n",
        "    c=valor*veces\n",
        "  else:\n",
        "    c=\"Operación no valida\"\n",
        "  return c\n",
        "\n",
        "def operacion(a, b, c):\n",
        "  res=a+(b/c)\n",
        "  return res\n",
        "\n",
        "print(sumar(10,5))\n",
        "print(sumar(2,6))\n",
        "saludar(\"Jesus\")\n",
        "\n",
        "#esto nos regresaría un none\n",
        "print(saludar('jesus'))\n",
        "print(multiplicar(5,6))\n",
        "print(multiplicar(None,6))\n",
        "\n",
        "print(operacion(2,9,3))\n",
        "print(operacion(2,3,9))\n",
        "print (operacion(a=2, c=3, b=9))\n"
      ],
      "execution_count": 34,
      "outputs": [
        {
          "output_type": "stream",
          "text": [
            "15\n",
            "8\n",
            "Hola Jesus, ¿Cómo estás?\n",
            "Hola jesus, ¿Cómo estás?\n",
            "None\n",
            "30\n",
            "Operación no valida\n",
            "5.0\n",
            "2.3333333333333335\n",
            "5.0\n"
          ],
          "name": "stdout"
        }
      ]
    },
    {
      "cell_type": "code",
      "metadata": {
        "id": "jgYojTBc-i6n",
        "outputId": "57b5d091-08e9-4712-db97-fd9e72ad11b0",
        "colab": {
          "base_uri": "https://localhost:8080/",
          "height": 272
        }
      },
      "source": [
        "#valores por defecto\n",
        "def comanda(primer , fuerte , postre=\"Galleta de animalito\" ):\n",
        "  print(f\"De entrada pidió:{primer}\")\n",
        "  print(f\"De plato fuerte: {fuerte}\")\n",
        "  print(f\"De postre pidio: {postre}\")\n",
        "#argumentos posicionales con tuplas *\n",
        "def comanda_2(*opciones):\n",
        "  print(opciones)\n",
        "  print(f\"De entrada pidió:{opciones[0]}\")\n",
        "  print(f\"De plato fuerte: {opciones[1]}\")\n",
        "  print(f\"De postre pidio: {opciones[2]}\")\n",
        "  print(\"\\nIndicaciones extra:\")\n",
        "  for ind in opciones[3::]:\n",
        "    print(f\"\\t {ind}\")\n",
        "    \n",
        "comanda(\"Sopa aguada\", \"Tortas de papa\", \"Gelatina de limón\")\n",
        "comanda(\"Sopa aguada\", \"Tortas de papa\")\n",
        "comanda_2(\"sopa aguada\", \"tortas de papa\" , \" Gelatina de limón\", \"Las tortas bien doradas, traer dos limones\", \"Agua con hielo\")\n"
      ],
      "execution_count": 43,
      "outputs": [
        {
          "output_type": "stream",
          "text": [
            "De entrada pidió:Sopa aguada\n",
            "De plato fuerte: Tortas de papa\n",
            "De postre pidio: Gelatina de limón\n",
            "De entrada pidió:Sopa aguada\n",
            "De plato fuerte: Tortas de papa\n",
            "De postre pidio: Galleta de animalito\n",
            "('sopa aguada', 'tortas de papa', ' Gelatina de limón', 'Las tortas bien doradas, traer dos limones', 'Agua con hielo')\n",
            "De entrada pidió:sopa aguada\n",
            "De plato fuerte: tortas de papa\n",
            "De postre pidio:  Gelatina de limón\n",
            "\n",
            "Indicaciones extra:\n",
            "\t Las tortas bien doradas, traer dos limones\n",
            "\t Agua con hielo\n"
          ],
          "name": "stdout"
        }
      ]
    },
    {
      "cell_type": "code",
      "metadata": {
        "id": "XYvMMfjmFy-e"
      },
      "source": [
        "#argumentos de posicionales en diccionarios\n",
        "def comanda_3(*opciones):\n",
        "  print(opciones)\n",
        "  for opc in opciones.items():\n",
        "    print(f\"{opc[0]} -> {opc[1]}\")\n",
        "  comanda_3(primer=\"sopa de pasta\", fuerte=\"Tacos\", postre=\"Flan de la abuela\",\n",
        "            extra1=\"bien dorados\", extra2=\"muchos limones\", extra3=\"Agua de horchata\")"
      ],
      "execution_count": 22,
      "outputs": []
    }
  ]
}