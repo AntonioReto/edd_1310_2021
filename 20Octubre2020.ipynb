{
  "nbformat": 4,
  "nbformat_minor": 0,
  "metadata": {
    "colab": {
      "name": "Untitled8.ipynb",
      "provenance": [],
      "toc_visible": true,
      "authorship_tag": "ABX9TyPZQCDp05yWcSAMOI2R3pJP",
      "include_colab_link": true
    },
    "kernelspec": {
      "name": "python3",
      "display_name": "Python 3"
    }
  },
  "cells": [
    {
      "cell_type": "markdown",
      "metadata": {
        "id": "view-in-github",
        "colab_type": "text"
      },
      "source": [
        "<a href=\"https://colab.research.google.com/github/AntonioReto/edd_1310_2021/blob/master/20Octubre2020.ipynb\" target=\"_parent\"><img src=\"https://colab.research.google.com/assets/colab-badge.svg\" alt=\"Open In Colab\"/></a>"
      ]
    },
    {
      "cell_type": "code",
      "metadata": {
        "id": "7ez3YrRGwcSu",
        "outputId": "6a1c3189-3335-4770-b495-d1fe0fa9e7b2",
        "colab": {
          "base_uri": "https://localhost:8080/",
          "height": 290
        }
      },
      "source": [
        "archivo= open('numeros.txt','rt')\n",
        "for linea in archivo.readlines():\n",
        "  for trunc in linea.split(','):\n",
        "    print(int(trunc.strip()))\n"
      ],
      "execution_count": 7,
      "outputs": [
        {
          "output_type": "stream",
          "text": [
            "23\n",
            "23\n",
            "44\n",
            "55\n",
            "5\n",
            "44\n",
            "4\n",
            "5\n",
            "7\n",
            "7\n",
            "6\n",
            "5\n",
            "4\n",
            "2\n",
            "1\n"
          ],
          "name": "stdout"
        }
      ]
    },
    {
      "cell_type": "markdown",
      "metadata": {
        "id": "q_9h6b362rJX"
      },
      "source": [
        "#sintaxis del for en Python\n",
        "1. range\n",
        "2. in iterador"
      ]
    },
    {
      "cell_type": "code",
      "metadata": {
        "id": "OTQ8zLhL20pC",
        "outputId": "799f8399-2371-4e96-e857-ccf415da9ef1",
        "colab": {
          "base_uri": "https://localhost:8080/",
          "height": 181
        }
      },
      "source": [
        "r= range(0,10,2)\n",
        "for x in r:\n",
        "  print(x)\n",
        "\n",
        "colores=['rojo','rosa','azul','fucsia']\n",
        "#Este for sirve para cuando vamos a modificar el elemento\n",
        "for indice in range(0,4,1): \n",
        "# for (indice = 0;indice <4;indice++) = for en java\n",
        "#for for indice in range(0,len(colores),1): ----> sirve para ir al final cuando no se conoce el mismo final\n",
        "  colores[indice]=colores[indice].upper()\n",
        "\n",
        "#for sobre un iterador ----> recorrer una lista para mostrar el contenido\n",
        "\n",
        "for col in colores:\n",
        "  print(col)"
      ],
      "execution_count": 16,
      "outputs": [
        {
          "output_type": "stream",
          "text": [
            "0\n",
            "2\n",
            "4\n",
            "6\n",
            "8\n",
            "ROJO\n",
            "ROSA\n",
            "AZUL\n",
            "FUCSIA\n"
          ],
          "name": "stdout"
        }
      ]
    },
    {
      "cell_type": "markdown",
      "metadata": {
        "id": "a-QkrDAs7_Nb"
      },
      "source": [
        "#Generador\n",
        "[valor for x in range() ]\n",
        "[\"hola\" for x in range(10)]\n",
        "\n",
        "[[0,0,0], \n",
        " [0,0,0],\n",
        " [0,0,0]]"
      ]
    },
    {
      "cell_type": "code",
      "metadata": {
        "id": "6fq-rhMI8Zha",
        "outputId": "45992a09-1d10-4511-8e35-8b4a453e4579",
        "colab": {
          "base_uri": "https://localhost:8080/",
          "height": 35
        }
      },
      "source": [
        "lista=[x for x in range(10)]\n",
        "print(lista)"
      ],
      "execution_count": 19,
      "outputs": [
        {
          "output_type": "stream",
          "text": [
            "[0, 1, 2, 3, 4, 5, 6, 7, 8, 9, 10, 11]\n"
          ],
          "name": "stdout"
        }
      ]
    },
    {
      "cell_type": "code",
      "metadata": {
        "id": "Afmj184_8qDC",
        "outputId": "21043425-e0be-4ded-a28e-df106b599525",
        "colab": {
          "base_uri": "https://localhost:8080/",
          "height": 54
        }
      },
      "source": [
        "lista = [0 for x in range(10)]\n",
        "print(lista)\n",
        "\n",
        "lista=[[0,0,0] for x in range (3)]\n",
        "print(lista)"
      ],
      "execution_count": 24,
      "outputs": [
        {
          "output_type": "stream",
          "text": [
            "[0, 0, 0, 0, 0, 0, 0, 0, 0, 0]\n",
            "[[0, 0, 0], [0, 0, 0], [0, 0, 0]]\n"
          ],
          "name": "stdout"
        }
      ]
    },
    {
      "cell_type": "code",
      "metadata": {
        "id": "zNXr81zG9-_W",
        "outputId": "0a36f602-78f0-47fe-a077-e5ea61f90632",
        "colab": {
          "base_uri": "https://localhost:8080/",
          "height": 35
        }
      },
      "source": [
        "ren = 3\n",
        "col = 3 \n",
        "lista = [[0 for x in range (col)]for x in range(ren)]\n",
        "print (lista)"
      ],
      "execution_count": 26,
      "outputs": [
        {
          "output_type": "stream",
          "text": [
            "[[0, 0, 0], [0, 0, 0], [0, 0, 0]]\n"
          ],
          "name": "stdout"
        }
      ]
    },
    {
      "cell_type": "markdown",
      "metadata": {
        "id": "1jUf4KiS_FzJ"
      },
      "source": [
        "#POO en python\n",
        "- clase\n",
        "- creacion de objetos\n",
        "- encapsulamiento\n",
        "- metodos\n",
        "- atributos\n",
        "- herencia\n"
      ]
    },
    {
      "cell_type": "code",
      "metadata": {
        "id": "_MGIY0e4_Zro",
        "outputId": "d01c36ba-813e-42a5-c9df-9cd7023f86e0",
        "colab": {
          "base_uri": "https://localhost:8080/",
          "height": 54
        }
      },
      "source": [
        "class Computadora:\n",
        "  #constuctor (dos guiones bajos antes y despues de initi)\n",
        "  # los dos guines bajos antes de declarar variables significa que están privados\n",
        "  def __init__( self,m,p ):\n",
        "    self.__marca=m\n",
        "    self.__procesador=p\n",
        "\n",
        "    print(\"creando objeto\")\n",
        "  def to_string(self):\n",
        "    return \"Marca:\"+self.__marca +\" Procesador: \"+self.__procesador\n",
        "\n",
        "mi_pc = Computadora(\"Toshiba\",\"intel i7\")\n",
        "mi_pc.__marca=\"HP\"\n",
        "print(mi_pc.to_string())"
      ],
      "execution_count": 5,
      "outputs": [
        {
          "output_type": "stream",
          "text": [
            "creando objeto\n",
            "Marca:Toshiba Procesador: intel i7\n"
          ],
          "name": "stdout"
        }
      ]
    }
  ]
}