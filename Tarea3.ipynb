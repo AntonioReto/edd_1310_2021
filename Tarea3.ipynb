{
  "nbformat": 4,
  "nbformat_minor": 0,
  "metadata": {
    "colab": {
      "name": "Tarea3",
      "provenance": [],
      "authorship_tag": "ABX9TyMQkTO+g8/6oApExC3ZOrxj",
      "include_colab_link": true
    },
    "kernelspec": {
      "name": "python3",
      "display_name": "Python 3"
    }
  },
  "cells": [
    {
      "cell_type": "markdown",
      "metadata": {
        "id": "view-in-github",
        "colab_type": "text"
      },
      "source": [
        "<a href=\"https://colab.research.google.com/github/AntonioReto/edd_1310_2021/blob/master/Tarea3.ipynb\" target=\"_parent\"><img src=\"https://colab.research.google.com/assets/colab-badge.svg\" alt=\"Open In Colab\"/></a>"
      ]
    },
    {
      "cell_type": "code",
      "metadata": {
        "id": "oaWcpkz7D60f",
        "outputId": "753405b0-8475-4523-f8aa-86c19f250690",
        "colab": {
          "base_uri": "https://localhost:8080/",
          "height": 140
        }
      },
      "source": [
        "class Persona:\n",
        "  def __init__( self,n,e,w ):\n",
        "    self.__nombre=n\n",
        "    self.__edad=e\n",
        "    self.__estatura=w\n",
        "    print(\"Creando nueva persona\")\n",
        "  def dormir(self):\n",
        "      print(\"Voy a mimir\")\n",
        "      return \n",
        "  def comer (self):\n",
        "      print(\"Voy a comer grrriquisimo\")\n",
        "      return \n",
        "  def to_string(self):\n",
        "     return \"Nombre:\"+self.__nombre+\" Edad:\" +self.__edad+ \"Estatura:\"+self.__estatura\n",
        "    \n",
        "persona_uno = Persona(\"Hombre\", \"20\", \"1.80 metros\")\n",
        "print(persona_uno.to_string())\n",
        "print(persona_uno.dormir())\n",
        "print(persona_uno.comer())"
      ],
      "execution_count": 26,
      "outputs": [
        {
          "output_type": "stream",
          "text": [
            "Creando nueva persona\n",
            "Nombre:Hombre Edad:20Estatura:1.80 metros\n",
            "Voy a mimir\n",
            "None\n",
            "Voy a comer grrriquisimo\n",
            "None\n"
          ],
          "name": "stdout"
        }
      ]
    },
    {
      "cell_type": "code",
      "metadata": {
        "id": "z3mAzb2ca5yo",
        "outputId": "9a83fc3c-47b1-4da9-af45-02826fe63a50",
        "colab": {
          "base_uri": "https://localhost:8080/",
          "height": 140
        }
      },
      "source": [
        " class Celular:\n",
        "  def __init__( self,m,t,gb):\n",
        "    self.__marca=m\n",
        "    self.__modelo=t\n",
        "    self.__memoria=gb\n",
        "    print(\"Creando nuevo celular\")\n",
        "  def llamar(self):\n",
        "      print(\"Llamando a la novia\")\n",
        "      return \n",
        "  def poner_alarma(self):\n",
        "      print(\"La alarma sonará en 5 horas\")\n",
        "      return \n",
        "  def to_string(self):\n",
        "     return \"Marca:\"+self.__marca+\" Modrlo:\" +self.__modelo+ \"Memoria: \"+self.__memoria\n",
        "    \n",
        "iphone = Celular (\"Apple\", \"Iphone 12\", \"128 Gb\")\n",
        "print(iphone.to_string())\n",
        "print(iphone.llamar())\n",
        "print(iphone.poner_alarma())"
      ],
      "execution_count": 27,
      "outputs": [
        {
          "output_type": "stream",
          "text": [
            "Creando nuevo celular\n",
            "Marca:Apple Modrlo:Iphone 12Memoria: 128 Gb\n",
            "Llamando a la novia\n",
            "None\n",
            "La alarma sonará en 5 horas\n",
            "None\n"
          ],
          "name": "stdout"
        }
      ]
    }
  ]
}