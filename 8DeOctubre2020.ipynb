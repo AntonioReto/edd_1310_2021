{
  "nbformat": 4,
  "nbformat_minor": 0,
  "metadata": {
    "colab": {
      "name": "8DeOctubre2020.ipynb",
      "provenance": [],
      "authorship_tag": "ABX9TyPzrWjRXtvjc4RJgZr4UZbM",
      "include_colab_link": true
    },
    "kernelspec": {
      "name": "python3",
      "display_name": "Python 3"
    }
  },
  "cells": [
    {
      "cell_type": "markdown",
      "metadata": {
        "id": "view-in-github",
        "colab_type": "text"
      },
      "source": [
        "<a href=\"https://colab.research.google.com/github/AntonioReto/edd_1310_2021/blob/master/8DeOctubre2020.ipynb\" target=\"_parent\"><img src=\"https://colab.research.google.com/assets/colab-badge.svg\" alt=\"Open In Colab\"/></a>"
      ]
    },
    {
      "cell_type": "code",
      "metadata": {
        "id": "RFJTRR8d_fXD",
        "outputId": "03569ab9-9684-4aa8-cf53-df170586859f",
        "colab": {
          "base_uri": "https://localhost:8080/",
          "height": 119
        }
      },
      "source": [
        "#listas multidimension\n",
        "monitores =[[\"Samsung\",\"17.3 \\\"\",1024],[\"BenQ\",\"40\\\"\",2048]]\n",
        "procesadores = [[\"Intel\",\"i7\",3.4],[\"AMD\",\"razzer\",3.3],[\"Intel\",\"i3\",3.1]]\n",
        "memorias = [[\"Kingston\", \"8GB\",\"DDR4\"],[\"Kingston\", \"16GB\",\"DDR3\"],[\"ADATA\", \"32GB\",\"DDR4\"]]\n",
        "\n",
        "componentes = [monitores,procesadores,memorias]\n",
        "print(componentes[1])\n",
        "print (componentes[2][1][1])\n",
        "print(int(componentes[0][1][2])*2)\n",
        "print(componentes[1][1][1][1:4:1])\n",
        "print(componentes[2][2][0].lower())\n",
        "componentes[2].append([\"Patito\",\"32GB\",\"DDR4\"])\n",
        "print(componentes[2])"
      ],
      "execution_count": 15,
      "outputs": [
        {
          "output_type": "stream",
          "text": [
            "[['Intel', 'i7', 3.4], ['AMD', 'razzer', 3.3], ['Intel', 'i3', 3.1]]\n",
            "16GB\n",
            "4096\n",
            "azz\n",
            "adata\n",
            "[['Kingston', '8GB', 'DDR4'], ['Kingston', '16GB', 'DDR3'], ['ADATA', '32GB', 'DDR4'], ['Patito', '32GB', 'DDR4']]\n"
          ],
          "name": "stdout"
        }
      ]
    },
    {
      "cell_type": "code",
      "metadata": {
        "id": "b7Ij84GxHzNu",
        "outputId": "b6e563e1-1062-4676-fcbd-e9f9505dfc9a",
        "colab": {
          "base_uri": "https://localhost:8080/",
          "height": 170
        }
      },
      "source": [
        "#copiar listas\n",
        "#extender listas\n",
        "frutas=[\"Manzana\",\"Pera\"]\n",
        "otras_frutas = [\"Aguacate\",\"Sandía\"]\n",
        "print(frutas+otras_frutas)\n",
        "print(frutas)\n",
        "\n",
        "# + sobre listas\n",
        "#frutas = frutas + otras_frutas\n",
        "#print (frutas)\n",
        "\n",
        "#funcion extend()\n",
        "#frutas.extend(otras_frutas)\n",
        "#print(frutas)\n",
        "\n",
        "#frutas.append(otras_frutas)\n",
        "#print(frutas)\n",
        "\n",
        "#copiar\n",
        "colores=[\"azul\",\"rojo\",\"verde\",\"violeta\"]\n",
        "otros_colores = colores\n",
        "print(colores)\n",
        "print(otros_colores)\n",
        "otros_colores.append(\"Rosa\")\n",
        "print(otros_colores)\n",
        "print(colores)\n",
        "\n",
        "una_mas=colores.copy()\n",
        "una_mas.append(\"gris\")\n",
        "print(una_mas)\n",
        "print(colores)\n",
        "\n",
        "#unpacking de listas\n",
        "#Ahorra lineas de código \n",
        "alumno = [\"Jesus\",\"Perez\",\"Herrera\",22,\"ICO\",10.0]\n",
        "  #nombre= alumno[0]\n",
        "  #paterno=alumno[1]\n",
        "nombre,paterno,materno,edad,carrera,promedio = alumno\n",
        "print(f\"Alumno: {nombre}  Carrera: {carrera}  Promedio: {promedio} \")\n"
      ],
      "execution_count": 5,
      "outputs": [
        {
          "output_type": "stream",
          "text": [
            "['Manzana', 'Pera', 'Aguacate', 'Sandía']\n",
            "['Manzana', 'Pera']\n",
            "['azul', 'rojo', 'verde', 'violeta']\n",
            "['azul', 'rojo', 'verde', 'violeta']\n",
            "['azul', 'rojo', 'verde', 'violeta', 'Rosa']\n",
            "['azul', 'rojo', 'verde', 'violeta', 'Rosa']\n",
            "['azul', 'rojo', 'verde', 'violeta', 'Rosa', 'gris']\n",
            "['azul', 'rojo', 'verde', 'violeta', 'Rosa']\n",
            "Alumno: Jesus  Carrera: ICO  Promedio: 10.0 \n"
          ],
          "name": "stdout"
        }
      ]
    },
    {
      "cell_type": "markdown",
      "metadata": {
        "id": "DOt5ZyPnR3wx"
      },
      "source": [
        "#Tuplas\n",
        "- No son mutables (No es modificable)\n",
        "- Se declaran con parentesis ()\n",
        "- El selector es igual que en las listas []\n"
      ]
    },
    {
      "cell_type": "code",
      "metadata": {
        "id": "P6ZwRR-rSMWX",
        "outputId": "c081300f-8b42-47cb-ba77-b68a4048f18e",
        "colab": {
          "base_uri": "https://localhost:8080/",
          "height": 68
        }
      },
      "source": [
        "#las tuplas son un conjunto de constantes\n",
        "precios = (99.9 , 49.9 , 12.45 , 23.3 , 33.44 , 55.66 )\n",
        "print(precios[1])\n",
        "#precios[1]=50.0\n",
        "print(precios)\n",
        "print(precios[2:4])"
      ],
      "execution_count": 9,
      "outputs": [
        {
          "output_type": "stream",
          "text": [
            "49.9\n",
            "(99.9, 49.9, 12.45, 23.3, 33.44, 55.66)\n",
            "(12.45, 23.3)\n"
          ],
          "name": "stdout"
        }
      ]
    },
    {
      "cell_type": "markdown",
      "metadata": {
        "id": "8BtB0uolTlRc"
      },
      "source": [
        "#Diccionarios\n",
        "- Se declara con llaves {}\n",
        "- Son mutables\n",
        "- Son conjuntos de pares llave: valor\n",
        "- Equivalentes a los objetos JSON de JavaScript\n"
      ]
    },
    {
      "cell_type": "code",
      "metadata": {
        "id": "QeqoiGHST63g",
        "outputId": "eb91ee45-99f6-49fe-b123-baf48e4b0374",
        "colab": {
          "base_uri": "https://localhost:8080/",
          "height": 139
        }
      },
      "source": [
        "cliente = {   }\n",
        "print(cliente)\n",
        "alumno = {   \"num_cta\"  :3030303 }\n",
        "print(alumno)\n",
        "alumno={     \"num_cta\"  :30303030,  \n",
        "             \"carrera\"  :\"ICO\",\n",
        "             \"promedio\" : 9.8,\n",
        "             \"Materias\" : [\"EDD\",\"CyP\",\"Calidad\",\"Empredimiento\"],\n",
        "             \"direccion\": {\n",
        "                 \"calle\": \"rancho seco\",\n",
        "                 \"numero\": 23,\n",
        "                 \"delegación\": \"neza\",\n",
        "                 \"estado\" : {\n",
        "                     \"id\" : 15,\n",
        "                     \"nombre_corto\": \"EDOMEX\",\n",
        "},\n",
        "            \"Código Postal\" :5710\n",
        "             }\n",
        "         }\n",
        "print(alumno)\n",
        "print(alumno['Materias'])\n",
        "print(alumno['promedio'])\n",
        "print(alumno['direccion']['estado']['nombre_corto'])"
      ],
      "execution_count": 17,
      "outputs": [
        {
          "output_type": "stream",
          "text": [
            "{}\n",
            "{'num_cta': 3030303}\n",
            "{'num_cta': 30303030, 'carrera': 'ICO', 'promedio': 9.8, 'Materias': ['EDD', 'CyP', 'Calidad', 'Empredimiento'], 'direccion': {'calle': 'rancho seco', 'numero': 23, 'delegación': 'neza', 'estado': {'id': 15, 'nombre_corto': 'EDOMEX'}, 'Código Postal': 5710}}\n",
            "['EDD', 'CyP', 'Calidad', 'Empredimiento']\n",
            "9.8\n",
            "EDOMEX\n"
          ],
          "name": "stdout"
        }
      ]
    }
  ]
}