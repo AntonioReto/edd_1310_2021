{
  "nbformat": 4,
  "nbformat_minor": 0,
  "metadata": {
    "colab": {
      "name": "27Octubre2020.ipynb",
      "provenance": [],
      "authorship_tag": "ABX9TyPHbz5BehEfeUGVDsyLFWz0",
      "include_colab_link": true
    },
    "kernelspec": {
      "name": "python3",
      "display_name": "Python 3"
    }
  },
  "cells": [
    {
      "cell_type": "markdown",
      "metadata": {
        "id": "view-in-github",
        "colab_type": "text"
      },
      "source": [
        "<a href=\"https://colab.research.google.com/github/AntonioReto/edd_1310_2021/blob/master/27Octubre2020.ipynb\" target=\"_parent\"><img src=\"https://colab.research.google.com/assets/colab-badge.svg\" alt=\"Open In Colab\"/></a>"
      ]
    },
    {
      "cell_type": "code",
      "metadata": {
        "id": "myfxdbOnCxtO",
        "outputId": "d292d5f8-3d1a-4981-a058-aafca0b99cf8",
        "colab": {
          "base_uri": "https://localhost:8080/",
          "height": 72
        }
      },
      "source": [
        "class Computadora:\n",
        "    def __init__( self , m , p):\n",
        "        self.__marca = m\n",
        "        self.__procesador = p\n",
        "\n",
        "    def to_string( self ):\n",
        "        return \"MArca:\"+self.__marca+\" Procesador:\"+self.__procesador\n",
        "    def set_marca( self , m ):\n",
        "      self.__marca=m\n",
        "    def get_marca( self ):\n",
        "      return self.__marca\n",
        "    def set_procesador( self, p):\n",
        "      self._set__procesador = p\n",
        "    def get_procesador (self):\n",
        "      return self.__procesador\n",
        "\n",
        "\n",
        "mi_pc = Computadora(\"Toshiba\",\"Intel i7\")\n",
        "print(mi_pc.to_string())\n",
        "mi_pc.__marca=\"HP \"  # Intentando cambiar el valor privado\n",
        "mi_pc.set_marca(\"HP co.\")\n",
        "print(mi_pc.to_string())\n",
        "#print(mi_pc.__procesador)\n",
        "print(mi_pc.get_procesador())"
      ],
      "execution_count": 4,
      "outputs": [
        {
          "output_type": "stream",
          "text": [
            "MArca:Toshiba Procesador:Intel i7\n",
            "MArca:HP co. Procesador:Intel i7\n",
            "Intel i7\n"
          ],
          "name": "stdout"
        }
      ]
    },
    {
      "cell_type": "markdown",
      "metadata": {
        "id": "JJLq83LmEJoO"
      },
      "source": [
        "#Encapsulamiento Python 3\n",
        "## Tradicional tipo java\n",
        "   - void set atributo( val )\n",
        "   - get atributo( )\n",
        "## Estilo python 3\n",
        "Utilizando Decoradores\n",
        "- @property\n",
        "- @atributo.setter"
      ]
    },
    {
      "cell_type": "code",
      "metadata": {
        "id": "LQyHj7JdHybR",
        "outputId": "596ff957-d0a4-4933-a97e-73a5bf1d866c",
        "colab": {
          "base_uri": "https://localhost:8080/",
          "height": 90
        }
      },
      "source": [
        "class Computadora:\n",
        "    def __init__( self , m , p):\n",
        "        self.__marca = m #Se manda a llamar el decorador @property\n",
        "        self.__procesador = p #idem\n",
        "    @property #se declara como  atributo privado y funciona como metodo get\n",
        "    def marca(self):\n",
        "      return self.marca\n",
        "    @marca.setter\n",
        "    def marca(self , m):\n",
        "      print(\"Setter de marca\")\n",
        "      self.__marca=m\n",
        "    @property\n",
        "    def procesador(self):\n",
        "      return self.__procesador\n",
        "    @procesador.setter\n",
        "    def procesador(self, p):\n",
        "      print(\"Setter de procesador\")\n",
        "      self.__procesador=p\n",
        "\n",
        "    def to_string ( self ):\n",
        "      return \"Marca: \" + self.__marca + \"Procesador: \"+self.procesador\n",
        "\n",
        "mi_pc2 = Computadora(\"Mac Book pro\", \"Intel i7\")\n",
        "print(mi_pc2.to_string())\n",
        "mi_pc2.marca=\"Dell \" \n",
        "mi_pc2.procesador=\"i7\"\n",
        "print(mi_pc2.to_string())"
      ],
      "execution_count": 15,
      "outputs": [
        {
          "output_type": "stream",
          "text": [
            "Marca: Mac Book proProcesador: Intel i7\n",
            "Setter de marca\n",
            "Setter de procesador\n",
            "Marca: Dell Procesador: i7\n"
          ],
          "name": "stdout"
        }
      ]
    },
    {
      "cell_type": "code",
      "metadata": {
        "id": "rhpzVcIVQjC2",
        "outputId": "3d3246c8-4fbe-4423-94cd-082ab39c193d",
        "colab": {
          "base_uri": "https://localhost:8080/",
          "height": 90
        }
      },
      "source": [
        "#Herencia , pasando la clase base a la declaración\n",
        "class ServidorEmpresarial (Computadora):\n",
        "  def __init__(self):\n",
        "    print(\"Hola servidor\")\n",
        "server = ServidorEmpresarial()\n",
        "server.marca = \"Sun Micro Systems\"\n",
        "server.procesador = \"Intel i7\"\n",
        "print(server.to_string())"
      ],
      "execution_count": 14,
      "outputs": [
        {
          "output_type": "stream",
          "text": [
            "Hola servidor\n",
            "Setter de marca\n",
            "Setter de procesador\n",
            "Marca: Sun Micro SystemsProcesador: Intel i7\n"
          ],
          "name": "stdout"
        }
      ]
    }
  ]
}